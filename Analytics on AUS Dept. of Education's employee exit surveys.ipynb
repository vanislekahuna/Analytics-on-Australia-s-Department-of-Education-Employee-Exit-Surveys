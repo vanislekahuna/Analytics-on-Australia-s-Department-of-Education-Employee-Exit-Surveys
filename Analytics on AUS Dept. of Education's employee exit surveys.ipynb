{
 "cells": [
  {
   "cell_type": "markdown",
   "metadata": {},
   "source": [
    "## Analytics on Australia's Dept. of Education employee exit surveys"
   ]
  },
  {
   "cell_type": "markdown",
   "metadata": {},
   "source": [
    "In this project, we aim to answer questions regarding the nature of employee's resigning from Australia's *Department of Education, Training, and Employment* (DETE). To investigate this issue, we'll be exploring datasets from the DETE as well as data gathered from the *Technical and Further Institute* (TEFA) in Queensland, Australia to **define and answer the following business questions**:\n",
    "* Are employees who only worked for the institutes for a short period of time resigning due to some kind of dissatisfaction? What about employees who have been there longer?\n",
    "* Are younger employees resigning due to some kind of dissatisfaction? What about older employees?"
   ]
  },
  {
   "cell_type": "markdown",
   "metadata": {},
   "source": [
    "Below is a **data dictionary** of our DETE:\n",
    "* `ID`: An id used to identify the participant of the survey\n",
    "* `SeparationType`: The reason why the person's employment ended\n",
    "* `Cease Date`: The year or month the person's employment ended\n",
    "* `DETE Start Date`: The year the person began employment with the DETE\n",
    "\n",
    "Another is for the TEFA dataset:\n",
    "* `Record ID`: An id used to identify the participant of the survey\n",
    "* `Reason for ceasing employment`: The reason why the person's employment ended\n",
    "* `LengthofServiceOverall. Overall Length of Service at Institute (in years)`: The length of the person's employment (in years)"
   ]
  },
  {
   "cell_type": "markdown",
   "metadata": {},
   "source": [
    "## Data Collection\n",
    "\n",
    "In the code below, we'll be uploading both datasets on to our Jupyter Notebook and running some quick observations on both surveys, with a focus on the column variables we mentioned in the data dictionary. We'll then inegrate research conducted by Padilla and SMS Research Advisors into our analysis to better understand the employee engagement levels of both these institutes. The research article we'll draw from can be found [here](https://www.businesswire.com/news/home/20171108006002/en/Age-Number-Engage-Employees-Career-Stage)."
   ]
  },
  {
   "cell_type": "code",
   "execution_count": 1,
   "metadata": {
    "scrolled": false
   },
   "outputs": [
    {
     "name": "stdout",
     "output_type": "stream",
     "text": [
      "AUS DETE Survey:  \n",
      " Index(['ID', 'SeparationType', 'Cease Date', 'DETE Start Date',\n",
      "       'Role Start Date', 'Position', 'Classification', 'Region',\n",
      "       'Business Unit', 'Employment Status', 'Career move to public sector',\n",
      "       'Career move to private sector', 'Interpersonal conflicts',\n",
      "       'Job dissatisfaction', 'Dissatisfaction with the department',\n",
      "       'Physical work environment', 'Lack of recognition',\n",
      "       'Lack of job security', 'Work location', 'Employment conditions',\n",
      "       'Maternity/family', 'Relocation', 'Study/Travel', 'Ill Health',\n",
      "       'Traumatic incident', 'Work life balance', 'Workload',\n",
      "       'None of the above', 'Professional Development',\n",
      "       'Opportunities for promotion', 'Staff morale', 'Workplace issue',\n",
      "       'Physical environment', 'Worklife balance',\n",
      "       'Stress and pressure support', 'Performance of supervisor',\n",
      "       'Peer support', 'Initiative', 'Skills', 'Coach', 'Career Aspirations',\n",
      "       'Feedback', 'Further PD', 'Communication', 'My say', 'Information',\n",
      "       'Kept informed', 'Wellness programs', 'Health & Safety', 'Gender',\n",
      "       'Age', 'Aboriginal', 'Torres Strait', 'South Sea', 'Disability',\n",
      "       'NESB'],\n",
      "      dtype='object') \n",
      " (822, 56) \n",
      "\n",
      "Age Retirement                          285\n",
      "Resignation-Other reasons               150\n",
      "Resignation-Other employer               91\n",
      "Resignation-Move overseas/interstate     70\n",
      "Voluntary Early Retirement (VER)         67\n",
      "Ill Health Retirement                    61\n",
      "Other                                    49\n",
      "Contract Expired                         34\n",
      "Termination                              15\n",
      "Name: SeparationType, dtype: int64 \n",
      "\n",
      "0 \n",
      "\n"
     ]
    }
   ],
   "source": [
    "import numpy as np\n",
    "import pandas as pd\n",
    "\n",
    "dete_survey = pd.read_csv(r\"C:\\Users\\owner\\Documents\\Data Science\\Datasets\\aus-dete-survey.csv\", encoding='UTF-8', na_values=['Not Stated', 'N/A'])\n",
    "print(\"AUS DETE Survey: \", '\\n', dete_survey.columns, '\\n', dete_survey.shape, '\\n')\n",
    "\n",
    "resign_reasons_d = dete_survey['SeparationType'].value_counts()\n",
    "print(resign_reasons_d, '\\n')\n",
    "\n",
    "missing_d = dete_survey['SeparationType'].isnull().sum()\n",
    "print(missing_d, '\\n')"
   ]
  },
  {
   "cell_type": "markdown",
   "metadata": {},
   "source": [
    "**Initial Observations: AUS DETE Employee exit surveys**\n",
    "\n",
    "After uploading our DETE dataset, we taillied some initial reasons for why employees may have left the company. In our `resign_reasons_d` variable, we identified `Age Retirement` and `Resignation-Other reasons` as the two key contributers to employee turnover and, lucky for us, there were `0` missing variables in this column."
   ]
  },
  {
   "cell_type": "code",
   "execution_count": 2,
   "metadata": {},
   "outputs": [
    {
     "name": "stdout",
     "output_type": "stream",
     "text": [
      "AUS TAFE Survey:  \n",
      " Index(['Record ID', 'Institute', 'WorkArea', 'CESSATION YEAR',\n",
      "       'Reason for ceasing employment',\n",
      "       'Contributing Factors. Career Move - Public Sector ',\n",
      "       'Contributing Factors. Career Move - Private Sector ',\n",
      "       'Contributing Factors. Career Move - Self-employment',\n",
      "       'Contributing Factors. Ill Health',\n",
      "       'Contributing Factors. Maternity/Family',\n",
      "       'Contributing Factors. Dissatisfaction',\n",
      "       'Contributing Factors. Job Dissatisfaction',\n",
      "       'Contributing Factors. Interpersonal Conflict',\n",
      "       'Contributing Factors. Study', 'Contributing Factors. Travel',\n",
      "       'Contributing Factors. Other', 'Contributing Factors. NONE',\n",
      "       'Main Factor.     Which of these was the main factor for leaving?',\n",
      "       'InstituteViews. Topic:1. I feel the senior leadership had a clear vision and direction',\n",
      "       'InstituteViews. Topic:2. I was given access to skills training to help me do my job better',\n",
      "       'InstituteViews. Topic:3. I was given adequate opportunities for personal development',\n",
      "       'InstituteViews. Topic:4. I was given adequate opportunities for promotion within %Institute]Q25LBL%',\n",
      "       'InstituteViews. Topic:5. I felt the salary for the job was right for the responsibilities I had',\n",
      "       'InstituteViews. Topic:6. The organisation recognised when staff did good work',\n",
      "       'InstituteViews. Topic:7. Management was generally supportive of me',\n",
      "       'InstituteViews. Topic:8. Management was generally supportive of my team',\n",
      "       'InstituteViews. Topic:9. I was kept informed of the changes in the organisation which would affect me',\n",
      "       'InstituteViews. Topic:10. Staff morale was positive within the Institute',\n",
      "       'InstituteViews. Topic:11. If I had a workplace issue it was dealt with quickly',\n",
      "       'InstituteViews. Topic:12. If I had a workplace issue it was dealt with efficiently',\n",
      "       'InstituteViews. Topic:13. If I had a workplace issue it was dealt with discreetly',\n",
      "       'WorkUnitViews. Topic:14. I was satisfied with the quality of the management and supervision within my work unit',\n",
      "       'WorkUnitViews. Topic:15. I worked well with my colleagues',\n",
      "       'WorkUnitViews. Topic:16. My job was challenging and interesting',\n",
      "       'WorkUnitViews. Topic:17. I was encouraged to use my initiative in the course of my work',\n",
      "       'WorkUnitViews. Topic:18. I had sufficient contact with other people in my job',\n",
      "       'WorkUnitViews. Topic:19. I was given adequate support and co-operation by my peers to enable me to do my job',\n",
      "       'WorkUnitViews. Topic:20. I was able to use the full range of my skills in my job',\n",
      "       'WorkUnitViews. Topic:21. I was able to use the full range of my abilities in my job. ; Category:Level of Agreement; Question:YOUR VIEWS ABOUT YOUR WORK UNIT]',\n",
      "       'WorkUnitViews. Topic:22. I was able to use the full range of my knowledge in my job',\n",
      "       'WorkUnitViews. Topic:23. My job provided sufficient variety',\n",
      "       'WorkUnitViews. Topic:24. I was able to cope with the level of stress and pressure in my job',\n",
      "       'WorkUnitViews. Topic:25. My job allowed me to balance the demands of work and family to my satisfaction',\n",
      "       'WorkUnitViews. Topic:26. My supervisor gave me adequate personal recognition and feedback on my performance',\n",
      "       'WorkUnitViews. Topic:27. My working environment was satisfactory e.g. sufficient space, good lighting, suitable seating and working area',\n",
      "       'WorkUnitViews. Topic:28. I was given the opportunity to mentor and coach others in order for me to pass on my skills and knowledge prior to my cessation date',\n",
      "       'WorkUnitViews. Topic:29. There was adequate communication between staff in my unit',\n",
      "       'WorkUnitViews. Topic:30. Staff morale was positive within my work unit',\n",
      "       'Induction. Did you undertake Workplace Induction?',\n",
      "       'InductionInfo. Topic:Did you undertake a Corporate Induction?',\n",
      "       'InductionInfo. Topic:Did you undertake a Institute Induction?',\n",
      "       'InductionInfo. Topic: Did you undertake Team Induction?',\n",
      "       'InductionInfo. Face to Face Topic:Did you undertake a Corporate Induction; Category:How it was conducted?',\n",
      "       'InductionInfo. On-line Topic:Did you undertake a Corporate Induction; Category:How it was conducted?',\n",
      "       'InductionInfo. Induction Manual Topic:Did you undertake a Corporate Induction?',\n",
      "       'InductionInfo. Face to Face Topic:Did you undertake a Institute Induction?',\n",
      "       'InductionInfo. On-line Topic:Did you undertake a Institute Induction?',\n",
      "       'InductionInfo. Induction Manual Topic:Did you undertake a Institute Induction?',\n",
      "       'InductionInfo. Face to Face Topic: Did you undertake Team Induction; Category?',\n",
      "       'InductionInfo. On-line Topic: Did you undertake Team Induction?process you undertook and how it was conducted.]',\n",
      "       'InductionInfo. Induction Manual Topic: Did you undertake Team Induction?',\n",
      "       'Workplace. Topic:Did you and your Manager develop a Performance and Professional Development Plan (PPDP)?',\n",
      "       'Workplace. Topic:Does your workplace promote a work culture free from all forms of unlawful discrimination?',\n",
      "       'Workplace. Topic:Does your workplace promote and practice the principles of employment equity?',\n",
      "       'Workplace. Topic:Does your workplace value the diversity of its employees?',\n",
      "       'Workplace. Topic:Would you recommend the Institute as an employer to others?',\n",
      "       'Gender.     What is your Gender?', 'CurrentAge.     Current Age',\n",
      "       'Employment Type.     Employment Type',\n",
      "       'Classification.     Classification',\n",
      "       'LengthofServiceOverall. Overall Length of Service at Institute (in years)',\n",
      "       'LengthofServiceCurrent. Length of Service at current workplace (in years)'],\n",
      "      dtype='object') \n",
      " (702, 72)\n",
      "Resignation                 340\n",
      "Contract Expired            127\n",
      "Retrenchment/ Redundancy    104\n",
      "Retirement                   82\n",
      "Transfer                     25\n",
      "Termination                  23\n",
      "Name: Reason for ceasing employment, dtype: int64 \n",
      "\n",
      "1 \n",
      "\n"
     ]
    }
   ],
   "source": [
    "tafe_survey = pd.read_csv(r\"C:\\Users\\owner\\Documents\\Data Science\\Datasets\\aus-tafe-survey.csv\", encoding='Windows-1252', na_values=['Not Stated', 'N/A', '-', 'NONE'])\n",
    "print(\"AUS TAFE Survey: \", '\\n', tafe_survey.columns, '\\n', tafe_survey.shape)\n",
    "\n",
    "resign_reasons_t = tafe_survey['Reason for ceasing employment'].value_counts()\n",
    "print(resign_reasons_t, '\\n')\n",
    "\n",
    "missing_t = tafe_survey['Reason for ceasing employment'].isnull().sum()\n",
    "print(missing_t, '\\n')"
   ]
  },
  {
   "cell_type": "markdown",
   "metadata": {},
   "source": [
    "**Initial observations: TAFE Employee exit surveys**\n",
    "\n",
    "This dataset, on the otherhand, is much more granular in terms of how they documented information on employee turnover and employee responses. From our `resign_reasons_t` variable, we found that `Resignation` and `Contract Expired` were the lead causes for turnover, perhaps signalling a weaker culture and workplace environment as compared to the DETE organization. There was also a single value in this column that was either missing or incomplete."
   ]
  },
  {
   "cell_type": "markdown",
   "metadata": {},
   "source": [
    "## Data Cleaning\n",
    "\n",
    "Next, we'll be dropping columns in both our datasets that won't be relevant for our analysis. For our `dete_survey` dataset, all the columns before `None of the above` captured information on the various reasons for why employees resigned or retired, while the columns after `gender` captured their demographic information. All other columns in between were not as valuable for our analysis.\n",
    "\n",
    "On the other hand, our reasons for excluding certain columns in the `tafe_survey` dataset were similar in the sense that we only kept information which contributed to an employee's resignation or retirement, along with demographic information about them. In this section, we'll identify comparable variables between the two datasets and prepare them to cleanly join both datasets."
   ]
  },
  {
   "cell_type": "code",
   "execution_count": 3,
   "metadata": {},
   "outputs": [
    {
     "name": "stdout",
     "output_type": "stream",
     "text": [
      "Index(['ID', 'SeparationType', 'Cease Date', 'DETE Start Date',\n",
      "       'Role Start Date', 'Position', 'Classification', 'Region',\n",
      "       'Business Unit', 'Employment Status', 'Career move to public sector',\n",
      "       'Career move to private sector', 'Interpersonal conflicts',\n",
      "       'Job dissatisfaction', 'Dissatisfaction with the department',\n",
      "       'Physical work environment', 'Lack of recognition',\n",
      "       'Lack of job security', 'Work location', 'Employment conditions',\n",
      "       'Maternity/family', 'Relocation', 'Study/Travel', 'Ill Health',\n",
      "       'Traumatic incident', 'Work life balance', 'Workload',\n",
      "       'None of the above', 'Gender', 'Age', 'Aboriginal', 'Torres Strait',\n",
      "       'South Sea', 'Disability', 'NESB'],\n",
      "      dtype='object') \n",
      "\n",
      "Index(['Record ID', 'Institute', 'WorkArea', 'CESSATION YEAR',\n",
      "       'Reason for ceasing employment',\n",
      "       'Contributing Factors. Career Move - Public Sector ',\n",
      "       'Contributing Factors. Career Move - Private Sector ',\n",
      "       'Contributing Factors. Career Move - Self-employment',\n",
      "       'Contributing Factors. Ill Health',\n",
      "       'Contributing Factors. Maternity/Family',\n",
      "       'Contributing Factors. Dissatisfaction',\n",
      "       'Contributing Factors. Job Dissatisfaction',\n",
      "       'Contributing Factors. Interpersonal Conflict',\n",
      "       'Contributing Factors. Study', 'Contributing Factors. Travel',\n",
      "       'Contributing Factors. Other', 'Contributing Factors. NONE',\n",
      "       'Gender.     What is your Gender?', 'CurrentAge.     Current Age',\n",
      "       'Employment Type.     Employment Type',\n",
      "       'Classification.     Classification',\n",
      "       'LengthofServiceOverall. Overall Length of Service at Institute (in years)',\n",
      "       'LengthofServiceCurrent. Length of Service at current workplace (in years)'],\n",
      "      dtype='object')\n"
     ]
    }
   ],
   "source": [
    "dete_survey_updated = dete_survey.drop(dete_survey.columns[28:49], axis=1)\n",
    "print(dete_survey_updated.columns, '\\n')\n",
    "\n",
    "tafe_survey_updated = tafe_survey.drop(tafe_survey.columns[17:66], axis=1)\n",
    "print(tafe_survey_updated.columns)"
   ]
  },
  {
   "cell_type": "markdown",
   "metadata": {},
   "source": [
    "**Analytic Checkpoint - Re-formatting Column Names**: With the code below, we standardized the column names in `dete_survey_updated` to make it easier for us when we merge it with the `tafe_survey_updated` dataset. We did this by replacing all spaces between names with an underscore, converting all the characters into lowercase, and changing the names so that the language is easier to interpret for the lay reader. "
   ]
  },
  {
   "cell_type": "code",
   "execution_count": 4,
   "metadata": {},
   "outputs": [
    {
     "name": "stdout",
     "output_type": "stream",
     "text": [
      "Index(['id', 'separationtype', 'last_yr', 'first_yr', 'role_start_date',\n",
      "       'position', 'classification', 'region', 'business_unit',\n",
      "       'employment_status', 'career_move_to_public_sector',\n",
      "       'career_move_to_private_sector', 'interpersonal_conflicts',\n",
      "       'job_dissatisfaction', 'dissatisfaction_with_dept',\n",
      "       'physical_work_environment', 'lack_of_recognition',\n",
      "       'lack_of_job_security', 'work_location', 'employment_conditions',\n",
      "       'maternity/family', 'relocation', 'study', 'ill_health',\n",
      "       'traumatic_incident', 'work_life_balance', 'workload',\n",
      "       'none_of_the_above', 'gender', 'age', 'aboriginal', 'torres_strait',\n",
      "       'south_sea', 'disability', 'nesb', 'travel'],\n",
      "      dtype='object')\n"
     ]
    }
   ],
   "source": [
    "dete_survey_updated.columns = dete_survey_updated.columns.str.replace(' ', '_').str.strip().str.lower()\n",
    "dete_survey_updated.rename(columns={'dete_start_date': 'first_yr', 'cease_date': 'last_yr',\n",
    "                                    'dissatisfaction_with_the_department': 'dissatisfaction_with_dept'}, inplace=True)\n",
    "\n",
    "#Duplicate the 'study/travel' column and create separate 'study' and 'travel' columns\n",
    "dete_survey_updated['travel'] = dete_survey_updated['study/travel'].copy()\n",
    "\n",
    "dete_survey_updated.columns = dete_survey_updated.columns.str.replace('study/travel', 'study')\n",
    "print(dete_survey_updated.columns)"
   ]
  },
  {
   "cell_type": "markdown",
   "metadata": {},
   "source": [
    "Now we'll repeat this process again with the `tafe_survey_updated` data in the code below."
   ]
  },
  {
   "cell_type": "code",
   "execution_count": 5,
   "metadata": {
    "scrolled": true
   },
   "outputs": [
    {
     "name": "stdout",
     "output_type": "stream",
     "text": [
      "Index(['id', 'institute', 'workarea', 'last_yr', 'separationtype',\n",
      "       'career_move_to_public_sector', 'career_move_to_private_sector',\n",
      "       'contributing_factors._career_move_-_self-employment', 'ill_health',\n",
      "       'maternity/family', 'contributing_factors._dissatisfaction',\n",
      "       'job_dissatisfaction', 'interpersonal_conflicts', 'study', 'travel',\n",
      "       'contributing_factors._other', 'none_of_the_above',\n",
      "       'gender._    what_is_your_gender?', 'currentage._    current_age',\n",
      "       'employment_type._    employment_type',\n",
      "       'classification._    classification',\n",
      "       'lengthofserviceoverall._overall_length_of_service_at_institute_(in_years)',\n",
      "       'lengthofservicecurrent._length_of_service_at_current_workplace_(in_years)'],\n",
      "      dtype='object')\n"
     ]
    }
   ],
   "source": [
    "tafe_survey_updated.columns = tafe_survey_updated.columns.str.replace(' ', '_').str.strip().str.lower()\n",
    "\n",
    "#These ones won't update for some reason?\n",
    "tafe_survey_updated.rename(columns={'gender._    what_is_your_gender?': 'gender',\n",
    "                                     'currentage._    current_age': 'age',\n",
    "                                     'LengthofServiceOverall. Overall Length of Service at Institute (in years)': 'institute_service'}, inplace=True)\n",
    "\n",
    "tafe_survey_updated.rename(columns={'record_id': 'id','reason_for_ceasing_employment': 'separationtype', \n",
    "                                    'cessation_year': 'last_yr', \n",
    "                                    'contributing_factors._career_move_-_public_sector_': 'career_move_to_public_sector', \n",
    "                                    'contributing_factors._career_move_-_private_sector_': 'career_move_to_private_sector', \n",
    "                                    'contributing_factors._ill_health': 'ill_health',\n",
    "                                    'contributing_factors._maternity/family': 'maternity/family',\n",
    "                                    'contributing_factors._job_dissatisfaction': 'job_dissatisfaction',\n",
    "                                   'contributing_factors._interpersonal_conflict': 'interpersonal_conflicts', \n",
    "                                    'contributing_factors._study': 'study',\n",
    "                                    'contributing_factors._travel': 'travel',\n",
    "                                    'contributing_factors._none': 'none_of_the_above'}, inplace=True)\n",
    "\n",
    "\n",
    "print(tafe_survey_updated.columns)"
   ]
  },
  {
   "cell_type": "markdown",
   "metadata": {},
   "source": [
    "**Analytic Checkpoint - Filtering data based on variable criteria**: Now that we've filtered the variables we're interested in and renamed them to provide more consistency when we join the two databases, we'll now further our focus on the data points we're most intersted in. Going back to the original goal of our analysis, we will be primarily interested in the commonalities between employees who *resigned*. To achieve this, again, we will filter our analysis down to employees who've been classified in the `separationtype` variable as a `Resignation` and store them in the objects: `dete_resignation` and `tafe_resignation`."
   ]
  },
  {
   "cell_type": "code",
   "execution_count": 6,
   "metadata": {},
   "outputs": [
    {
     "name": "stdout",
     "output_type": "stream",
     "text": [
      "Reasons for ceasing employmet (DETE): \n",
      "Age Retirement                          285\n",
      "Resignation-Other reasons               150\n",
      "Resignation-Other employer               91\n",
      "Resignation-Move overseas/interstate     70\n",
      "Voluntary Early Retirement (VER)         67\n",
      "Ill Health Retirement                    61\n",
      "Other                                    49\n",
      "Contract Expired                         34\n",
      "Termination                              15\n",
      "Name: separationtype, dtype: int64 \n",
      "\n",
      "DETE Employees who resigned:  (311, 36) \n",
      "\n",
      "Reasons for ceasing employmet (TAFE): \n",
      "Resignation                 340\n",
      "Contract Expired            127\n",
      "Retrenchment/ Redundancy    104\n",
      "Retirement                   82\n",
      "Transfer                     25\n",
      "Termination                  23\n",
      "Name: separationtype, dtype: int64 \n",
      "\n",
      "TAFE Employees who resigned:  (340, 23) \n",
      "\n"
     ]
    }
   ],
   "source": [
    "print(\"Reasons for ceasing employmet (DETE): \")\n",
    "print(dete_survey_updated['separationtype'].value_counts(), '\\n')\n",
    "dete_resignation = dete_survey_updated[dete_survey_updated['separationtype'].isin(['Resignation-Other reasons',\n",
    "                                                                                   'Resignation-Other employer',\n",
    "                                                                                   'Resignation-Move overseas/interstate'])]\n",
    "print(\"DETE Employees who resigned: \", dete_resignation.shape, '\\n')\n",
    "\n",
    "\n",
    "print(\"Reasons for ceasing employmet (TAFE): \")\n",
    "print(tafe_survey_updated['separationtype'].value_counts(), '\\n')\n",
    "tafe_resignation = tafe_survey_updated.loc[tafe_survey_updated['separationtype'] == 'Resignation'] #This is ok\n",
    "print(\"TAFE Employees who resigned: \", tafe_resignation.shape, '\\n')"
   ]
  },
  {
   "cell_type": "markdown",
   "metadata": {},
   "source": [
    "**Analytic Checkpoint - Calculating employment length:** One of the key goals of our analysis is identifying the trends amongst employees who've resigned and a crucial aspect of this is identifying how long they stayed with the company. Since there isn't a specific variable that tells us this in our `dete_resignation` dataset, we can infer their employment length by subtracting their `last_yr` variable with their `first_yr` in the code below. Then, we can assign the results into our newly created `institute_service` column. \n",
    "\n",
    "Based on our results, we've identified that `1963` was the earliest year an employee started with the company and that the longest employee tenure with the institution was `49` years!"
   ]
  },
  {
   "cell_type": "code",
   "execution_count": 7,
   "metadata": {
    "scrolled": false
   },
   "outputs": [
    {
     "name": "stdout",
     "output_type": "stream",
     "text": [
      "2014.0     22\n",
      "2013.0    146\n",
      "2012.0    129\n",
      "2010.0      2\n",
      "2006.0      1\n",
      "Name: last_yr, dtype: int64 \n",
      "\n",
      "1963.0    1\n",
      "1971.0    1\n",
      "1972.0    1\n",
      "1973.0    1\n",
      "1974.0    2\n",
      "Name: first_yr, dtype: int64 \n",
      "\n",
      "Employment length (yrs): \n",
      "32.0    3\n",
      "33.0    1\n",
      "34.0    1\n",
      "35.0    1\n",
      "36.0    2\n",
      "38.0    1\n",
      "39.0    3\n",
      "41.0    1\n",
      "42.0    1\n",
      "49.0    1\n",
      "Name: institute_service, dtype: int64\n"
     ]
    },
    {
     "name": "stderr",
     "output_type": "stream",
     "text": [
      "C:\\Users\\owner\\Documents\\Anaconda Package\\lib\\site-packages\\ipykernel_launcher.py:2: SettingWithCopyWarning: \n",
      "A value is trying to be set on a copy of a slice from a DataFrame.\n",
      "Try using .loc[row_indexer,col_indexer] = value instead\n",
      "\n",
      "See the caveats in the documentation: http://pandas.pydata.org/pandas-docs/stable/indexing.html#indexing-view-versus-copy\n",
      "  \n",
      "C:\\Users\\owner\\Documents\\Anaconda Package\\lib\\site-packages\\ipykernel_launcher.py:6: SettingWithCopyWarning: \n",
      "A value is trying to be set on a copy of a slice from a DataFrame.\n",
      "Try using .loc[row_indexer,col_indexer] = value instead\n",
      "\n",
      "See the caveats in the documentation: http://pandas.pydata.org/pandas-docs/stable/indexing.html#indexing-view-versus-copy\n",
      "  \n"
     ]
    }
   ],
   "source": [
    "#dete_resignation['first_yr'] ok, cleaning dete_resignation['last_yr']\n",
    "dete_resignation['last_yr'] = dete_resignation.loc[:, 'last_yr'].copy().astype('str').str.split('/').str.get(-1).astype('float')\n",
    "print(dete_resignation['last_yr'].value_counts().sort_index(ascending=False), '\\n')\n",
    "print(dete_resignation['first_yr'].value_counts().sort_index(ascending=True).head(), '\\n')\n",
    "\n",
    "dete_resignation['institute_service'] = dete_resignation.loc[:, 'last_yr'].copy() - dete_resignation.loc[:, 'first_yr'].copy()\n",
    "\n",
    "print(\"Employment length (yrs): \")\n",
    "print(dete_resignation['institute_service'].value_counts().sort_index().tail(10))"
   ]
  },
  {
   "cell_type": "markdown",
   "metadata": {},
   "source": [
    "**Analytic Checkpoint - Creating bins:** One of the problems we've ran into when trying to create consistency amongst the two datasets is that on the `tafe_resignation` Dataframe (df), employee's term with the company is displayed in terms of bins, or ranges, rather than specific time lengths such as what's displayed in our `dete_bins` variable. To account for this difference, we went ahead and categorized the employment lengths in DETE in terms of ranges, created a new column titled `'lengthofservicecurrent._length_of_service_at_current_workplace_(in_years)'` to match a similar one found in  `tafe_resignation`, and then compared them with our `tafe_bins` variable. "
   ]
  },
  {
   "cell_type": "code",
   "execution_count": 8,
   "metadata": {
    "scrolled": false
   },
   "outputs": [
    {
     "name": "stdout",
     "output_type": "stream",
     "text": [
      "TAFE Service to Institute (yrs): \n",
      "Less than 1 year      73\n",
      "1-2                   64\n",
      "3-4                   63\n",
      "nan                   50\n",
      "5-6                   33\n",
      "11-20                 26\n",
      "7-10                  21\n",
      "More than 20 years    10\n",
      "Name: lengthofserviceoverall._overall_length_of_service_at_institute_(in_years), dtype: int64\n"
     ]
    }
   ],
   "source": [
    "tafe_bins = tafe_resignation['lengthofserviceoverall._overall_length_of_service_at_institute_(in_years)'].astype('str').value_counts()\n",
    "\n",
    "print(\"TAFE Service to Institute (yrs): \")\n",
    "print(tafe_bins)"
   ]
  },
  {
   "cell_type": "code",
   "execution_count": 9,
   "metadata": {
    "scrolled": false
   },
   "outputs": [
    {
     "name": "stdout",
     "output_type": "stream",
     "text": [
      "category \n",
      "\n",
      "DETE Service to Institute (yrs): \n",
      "Less than 1 year    22\n",
      "1-2                 14\n",
      "2-3                 20\n",
      "3-4                 16\n",
      "4-5                 23\n",
      "5-6                 17\n",
      "6-7                 13\n",
      "7-10                28\n",
      "10-20               57\n",
      "20-30               27\n",
      "30-40               13\n",
      "40-50                3\n",
      "Name: lengthofservicecurrent._length_of_service_at_current_workplace_(in_years), dtype: int64\n"
     ]
    },
    {
     "name": "stderr",
     "output_type": "stream",
     "text": [
      "C:\\Users\\owner\\Documents\\Anaconda Package\\lib\\site-packages\\ipykernel_launcher.py:4: SettingWithCopyWarning: \n",
      "A value is trying to be set on a copy of a slice from a DataFrame.\n",
      "Try using .loc[row_indexer,col_indexer] = value instead\n",
      "\n",
      "See the caveats in the documentation: http://pandas.pydata.org/pandas-docs/stable/indexing.html#indexing-view-versus-copy\n",
      "  after removing the cwd from sys.path.\n"
     ]
    }
   ],
   "source": [
    "#Converting dete_resignation['institute_service'] values into bins\n",
    "bins = [0, 1, 2, 3, 4, 5, 6, 7, 10, 20, 30, 40, 50]\n",
    "labels = ['Less than 1 year', '1-2', '2-3', '3-4', '4-5', '5-6', '6-7', '7-10', '10-20', '20-30', '30-40', '40-50']\n",
    "dete_resignation['lengthofservicecurrent._length_of_service_at_current_workplace_(in_years)'] = pd.cut(dete_resignation.loc[:, 'institute_service'], bins=bins, labels=labels)\n",
    "print(dete_resignation['lengthofservicecurrent._length_of_service_at_current_workplace_(in_years)'].dtype, '\\n')\n",
    "\n",
    "print(\"DETE Service to Institute (yrs): \")\n",
    "dete_bins_sorted = dete_resignation['lengthofservicecurrent._length_of_service_at_current_workplace_(in_years)'].value_counts().sort_index()\n",
    "print(dete_bins_sorted)"
   ]
  },
  {
   "cell_type": "markdown",
   "metadata": {},
   "source": [
    "**Analytic Checkpoint - Isolating Dissatisfied Employees:** Now with the code below, we're going to create a new column titled `dissatisfaction` which stores a Boolean value whenever terms related to job dissatisfaction appear within a row. The Boolean will result in `True` if any of the columns we specified, for example the `'job_dissatisfaction'` columns in our `tafe_resignation` dataframe, have a value or `True` Boolean stored within it's column section. \n",
    "\n",
    "In our `dete_resignation` dataframe, we've tested multiple columns for stored or `True` values similar to what we didn in our `tafe_resignation` dataframe.\n",
    "\n",
    "Lastly, we'll add one more column to both dataframes, titled `institute`, to help us distinguish the values belonging to each dataframe when we later combine them."
   ]
  },
  {
   "cell_type": "code",
   "execution_count": 10,
   "metadata": {
    "scrolled": false
   },
   "outputs": [
    {
     "name": "stdout",
     "output_type": "stream",
     "text": [
      "14    Job Dissatisfaction\n",
      "15                    NaN\n",
      "16                    NaN\n",
      "17    Job Dissatisfaction\n",
      "18                    NaN\n",
      "19                    NaN\n",
      "Name: job_dissatisfaction, dtype: object \n",
      "\n",
      "8                                        NaN\n",
      "9                                        NaN\n",
      "10                                       NaN\n",
      "13                                       NaN\n",
      "14    Contributing Factors. Dissatisfaction \n",
      "Name: contributing_factors._dissatisfaction, dtype: object \n",
      "\n",
      "Index(['id', 'institute', 'workarea', 'last_yr', 'separationtype',\n",
      "       'career_move_to_public_sector', 'career_move_to_private_sector',\n",
      "       'contributing_factors._career_move_-_self-employment', 'ill_health',\n",
      "       'maternity/family', 'contributing_factors._dissatisfaction',\n",
      "       'job_dissatisfaction', 'interpersonal_conflicts', 'study', 'travel',\n",
      "       'contributing_factors._other', 'none_of_the_above',\n",
      "       'gender._    what_is_your_gender?', 'currentage._    current_age',\n",
      "       'employment_type._    employment_type',\n",
      "       'classification._    classification',\n",
      "       'lengthofserviceoverall._overall_length_of_service_at_institute_(in_years)',\n",
      "       'lengthofservicecurrent._length_of_service_at_current_workplace_(in_years)',\n",
      "       'dissatisfaction'],\n",
      "      dtype='object')\n"
     ]
    },
    {
     "name": "stderr",
     "output_type": "stream",
     "text": [
      "C:\\Users\\owner\\Documents\\Anaconda Package\\lib\\site-packages\\ipykernel_launcher.py:13: SettingWithCopyWarning: \n",
      "A value is trying to be set on a copy of a slice from a DataFrame.\n",
      "Try using .loc[row_indexer,col_indexer] = value instead\n",
      "\n",
      "See the caveats in the documentation: http://pandas.pydata.org/pandas-docs/stable/indexing.html#indexing-view-versus-copy\n",
      "  del sys.path[0]\n"
     ]
    }
   ],
   "source": [
    "print(tafe_resignation['job_dissatisfaction'].iloc[9:15], '\\n')\n",
    "print(tafe_resignation['contributing_factors._dissatisfaction'].iloc[5:10], '\\n')\n",
    "\n",
    "def update_vals(val):\n",
    "    if val is np.nan:\n",
    "        return False\n",
    "    elif val is '-':\n",
    "        return False\n",
    "    else:\n",
    "        return True\n",
    "    \n",
    "tafe_resignation['dissatisfaction'] = tafe_resignation[['job_dissatisfaction',\n",
    "                                                        'contributing_factors._dissatisfaction']].applymap(update_vals).any(axis=1, skipna=False).copy()\n",
    "tafe_resignation_up = tafe_resignation.copy()\n",
    "print(tafe_resignation_up.columns)"
   ]
  },
  {
   "cell_type": "code",
   "execution_count": 11,
   "metadata": {
    "scrolled": true
   },
   "outputs": [
    {
     "name": "stdout",
     "output_type": "stream",
     "text": [
      "Index(['id', 'separationtype', 'last_yr', 'first_yr', 'role_start_date',\n",
      "       'position', 'classification', 'region', 'business_unit',\n",
      "       'employment_status', 'career_move_to_public_sector',\n",
      "       'career_move_to_private_sector', 'interpersonal_conflicts',\n",
      "       'job_dissatisfaction', 'dissatisfaction_with_dept',\n",
      "       'physical_work_environment', 'lack_of_recognition',\n",
      "       'lack_of_job_security', 'work_location', 'employment_conditions',\n",
      "       'maternity/family', 'relocation', 'study', 'ill_health',\n",
      "       'traumatic_incident', 'work_life_balance', 'workload',\n",
      "       'none_of_the_above', 'gender', 'age', 'aboriginal', 'torres_strait',\n",
      "       'south_sea', 'disability', 'nesb', 'travel', 'institute_service',\n",
      "       'lengthofservicecurrent._length_of_service_at_current_workplace_(in_years)',\n",
      "       'dissatisfaction'],\n",
      "      dtype='object')\n"
     ]
    },
    {
     "name": "stderr",
     "output_type": "stream",
     "text": [
      "C:\\Users\\owner\\Documents\\Anaconda Package\\lib\\site-packages\\ipykernel_launcher.py:4: SettingWithCopyWarning: \n",
      "A value is trying to be set on a copy of a slice from a DataFrame.\n",
      "Try using .loc[row_indexer,col_indexer] = value instead\n",
      "\n",
      "See the caveats in the documentation: http://pandas.pydata.org/pandas-docs/stable/indexing.html#indexing-view-versus-copy\n",
      "  after removing the cwd from sys.path.\n"
     ]
    }
   ],
   "source": [
    "dete_resignation['dissatisfaction'] = dete_resignation[['job_dissatisfaction', 'dissatisfaction_with_dept', \n",
    "                                         'physical_work_environment', 'lack_of_recognition', 'lack_of_job_security',\n",
    "                                         'work_location', 'employment_conditions', 'work_life_balance',\n",
    "                                         'workload']].any(axis=1, skipna=False).copy()\n",
    "\n",
    "dete_resignation_up = dete_resignation.copy()\n",
    "print(dete_resignation_up.columns)"
   ]
  },
  {
   "cell_type": "code",
   "execution_count": 12,
   "metadata": {
    "scrolled": true
   },
   "outputs": [
    {
     "name": "stdout",
     "output_type": "stream",
     "text": [
      "   last_yr institute             separationtype  dissatisfaction\n",
      "3   2012.0      DETE  Resignation-Other reasons            False\n",
      "5   2012.0      DETE  Resignation-Other reasons             True\n",
      "8   2012.0      DETE  Resignation-Other reasons            False \n",
      "\n",
      "False    162\n",
      "True     149\n",
      "Name: dissatisfaction, dtype: int64 \n",
      "\n",
      "  institute separationtype  dissatisfaction\n",
      "3      TAFE    Resignation            False\n",
      "4      TAFE    Resignation            False\n",
      "5      TAFE    Resignation            False \n",
      "\n",
      "False    249\n",
      "True      91\n",
      "Name: dissatisfaction, dtype: int64\n"
     ]
    }
   ],
   "source": [
    "#Adding an extra column to distinguish between datasets\n",
    "\n",
    "dete_resignation_up['institute'] = 'DETE'\n",
    "print(dete_resignation_up[['last_yr', 'institute', 'separationtype', 'dissatisfaction']].head(3), '\\n')\n",
    "print(dete_resignation_up['dissatisfaction'].value_counts(), '\\n')\n",
    "\n",
    "tafe_resignation_up['institute'] = 'TAFE'\n",
    "print(tafe_resignation_up[['institute','separationtype', 'dissatisfaction']].head(3), '\\n')\n",
    "print(tafe_resignation_up['dissatisfaction'].value_counts())"
   ]
  },
  {
   "cell_type": "markdown",
   "metadata": {},
   "source": [
    "## Basic Data Analysis\n",
    "\n",
    "**Combining the datasets:**\n",
    "Now we get to the moment of truth where we finally combine both datasets using the `concat()` function to do a vertical, `outer` join. "
   ]
  },
  {
   "cell_type": "code",
   "execution_count": 13,
   "metadata": {},
   "outputs": [
    {
     "name": "stdout",
     "output_type": "stream",
     "text": [
      "(651, 49) \n",
      "\n",
      "Index(['id', 'separationtype', 'last_yr', 'first_yr', 'role_start_date',\n",
      "       'position', 'classification', 'region', 'business_unit',\n",
      "       'employment_status', 'career_move_to_public_sector',\n",
      "       'career_move_to_private_sector', 'interpersonal_conflicts',\n",
      "       'job_dissatisfaction', 'dissatisfaction_with_dept',\n",
      "       'physical_work_environment', 'lack_of_recognition',\n",
      "       'lack_of_job_security', 'work_location', 'employment_conditions',\n",
      "       'maternity/family', 'relocation', 'study', 'ill_health',\n",
      "       'traumatic_incident', 'work_life_balance', 'workload',\n",
      "       'none_of_the_above', 'gender', 'age', 'aboriginal', 'torres_strait',\n",
      "       'south_sea', 'disability', 'nesb', 'travel', 'institute_service',\n",
      "       'lengthofservicecurrent._length_of_service_at_current_workplace_(in_years)',\n",
      "       'dissatisfaction', 'institute', 'workarea',\n",
      "       'contributing_factors._career_move_-_self-employment',\n",
      "       'contributing_factors._dissatisfaction', 'contributing_factors._other',\n",
      "       'gender._    what_is_your_gender?', 'currentage._    current_age',\n",
      "       'employment_type._    employment_type',\n",
      "       'classification._    classification',\n",
      "       'lengthofserviceoverall._overall_length_of_service_at_institute_(in_years)'],\n",
      "      dtype='object') \n",
      "\n"
     ]
    }
   ],
   "source": [
    "combined = pd.concat([dete_resignation_up, tafe_resignation_up], axis=0, sort=False)\n",
    "print(combined.shape, '\\n')\n",
    "print(combined.columns, '\\n')"
   ]
  },
  {
   "cell_type": "markdown",
   "metadata": {},
   "source": [
    "**Analytic Checkpoint - Integrating research findings in our analysis:** Research findings by SMS Research advisors found that employee engagement is highly correlated with employment length with a company which can be further understood by dividing the lengths into 4 main categories, as summarized by [Business Wire](https://www.businesswire.com/news/home/20171108006002/en/Age-Number-Engage-Employees-Career-Stage): \n",
    "\n",
    "* **Newbie** (3 years or less at the company): These employees are least invested in company culture and the most transient, viewing the risk of switching jobs to be low. The top motivator for 59 percent of those in the newbie career stage is learning new skills or gaining new knowledge. They’re eager to learn through experience over formalized training programs. Employees in the newbie stage are challenged by not meeting personal goals or expectations and prefer managers that will offer guidance and feedback.\n",
    "\n",
    "* **Sophomore** (4-7 years at the company): These employees are learning in the moment and focused on proving themselves, but 29 percent also fear getting stuck or not feeling challenged enough. At this career stage, employees pay more attention to ethics, transparency and honest communications, expect more frequent communications from supervisors and place the highest value on work-life balance.\n",
    "\n",
    "* **Tenured** (8-10 years at the company): The top motivator for 58 percent of employees in the tenured stage is to contribute to the company’s overall goals. They focus more on what success looks like, are motivated by public recognition and promotion and seek ownership over specific projects or teams. The biggest challenge for the tenured stage is combatting stagnation and feeling “stuck.” It’s important for them to have open, direct conversations with their managers to help look for opportunities to further their career and find ways to overcome any barriers.\n",
    "\n",
    "* **Sage** (11 years or more at the company): With 76 percent of employees in the sage stage considering themselves loyal to their organization, they are the most loyal and engaged career stage overall and have one of the highest Net Promoter Scores. They typically fill more senior or leadership positions, which afford them leverage to dictate the ways they are engaged. They are less focused on building social relationships or credibility, as they have already established this, and are apprehensive about “life after work.” Legacy building is a pride-based motivation and is more often manifested in projects over people. Sage employees place the most emphasis on a company’s value and culture and should be increasingly engaged with projects that build a piece of the organization’s future.\n",
    "\n",
    "Other key findings by the research study suggest that for all career stages, financial incentives via employee rewards are almost always preferred over recognition. Also, for newbies and sophomores, tuition loan repayment assistance and health and wellness programs are also in high demand.\n",
    "\n",
    "With this information, we'll attempt to re-classify our `lengthofservicecurrent._length_of_service_at_current_workplace_(in_years)` ranges to fit the career stages identified in the article and store them under the column, `service_cat`."
   ]
  },
  {
   "cell_type": "code",
   "execution_count": 19,
   "metadata": {
    "scrolled": true
   },
   "outputs": [
    {
     "name": "stdout",
     "output_type": "stream",
     "text": [
      "689      Newbie\n",
      "690         NaN\n",
      "691    Sophmore\n",
      "693      Newbie\n",
      "694         NaN\n",
      "696    Sophmore\n",
      "697      Newbie\n",
      "698         NaN\n",
      "699      Newbie\n",
      "701      Newbie\n",
      "Name: service_cat, dtype: object \n",
      "\n",
      "Newbie                222\n",
      "Sophmore              145\n",
      "Sage                  121\n",
      "Tenured                47\n",
      "More than 20 years      8\n",
      "Name: service_cat, dtype: int64\n"
     ]
    }
   ],
   "source": [
    "combined['service_cat'] = combined['lengthofservicecurrent._length_of_service_at_current_workplace_(in_years)'].replace(['Less than 1 year', '1-2', '2-3'], 'Newbie').replace(['3-4', '4-5', '5-6', '6-7'], 'Sophmore').replace(['7-8', '8-9', '7-10', '9-10'], 'Tenured').replace(['10-20', '11-20', '20-30', '30-40', '40-50'], 'Sage').copy()\n",
    "\n",
    "print(combined['service_cat'].tail(10), '\\n')\n",
    "print(combined['service_cat'].value_counts())"
   ]
  },
  {
   "cell_type": "markdown",
   "metadata": {},
   "source": [
    "**Analytic Checkpoint - Aggregating columns for analysis:** Returning to the purpose of our analysis, we will now use the `dissatisfaction` column along with our `service_cat` to explore a potential relationship between the different types of employees and prove or disprove the research done by Padilla. We'll do so by creating a pivot table that identifies the number of dissatisfied employees among each career stage before moving on and visualizing our results."
   ]
  },
  {
   "cell_type": "code",
   "execution_count": 16,
   "metadata": {
    "scrolled": true
   },
   "outputs": [
    {
     "name": "stdout",
     "output_type": "stream",
     "text": [
      "False    411\n",
      "True     240\n",
      "Name: dissatisfaction, dtype: int64 \n",
      "\n",
      "0    411\n",
      "1    240\n",
      "Name: dissatisfaction, dtype: int64\n"
     ]
    }
   ],
   "source": [
    "print(combined['dissatisfaction'].value_counts(), '\\n')\n",
    "\n",
    "combined['dissatisfaction'] *= 1\n",
    "print(combined['dissatisfaction'].value_counts())"
   ]
  },
  {
   "cell_type": "markdown",
   "metadata": {},
   "source": [
    "## Basic Data Visualization"
   ]
  },
  {
   "cell_type": "code",
   "execution_count": 29,
   "metadata": {},
   "outputs": [
    {
     "name": "stdout",
     "output_type": "stream",
     "text": [
      "                    dissatisfaction\n",
      "service_cat                        \n",
      "More than 20 years         0.625000\n",
      "Newbie                     0.279279\n",
      "Sage                       0.504132\n",
      "Sophmore                   0.365517\n",
      "Tenured                    0.468085 \n",
      "\n"
     ]
    },
    {
     "data": {
      "text/plain": [
       "<matplotlib.axes._subplots.AxesSubplot at 0x262524b1940>"
      ]
     },
     "execution_count": 29,
     "metadata": {},
     "output_type": "execute_result"
    },
    {
     "data": {
      "image/png": "[encoded data removed]",
      "text/plain": [
       "<Figure size 432x288 with 1 Axes>"
      ]
     },
     "metadata": {
      "needs_background": "light"
     },
     "output_type": "display_data"
    }
   ],
   "source": [
    "pivot = combined.pivot_table(index='service_cat', values='dissatisfaction', aggfunc=np.mean)\n",
    "print(pivot, '\\n')\n",
    "\n",
    "pivot.plot(kind='bar', title='Avg number of dissatisfied employees in each career stage', ylim=(0, 1))"
   ]
  },
  {
   "cell_type": "code",
   "execution_count": 39,
   "metadata": {
    "scrolled": true
   },
   "outputs": [
    {
     "data": {
      "text/plain": [
       "<matplotlib.axes._subplots.AxesSubplot at 0x2625365f208>"
      ]
     },
     "execution_count": 39,
     "metadata": {},
     "output_type": "execute_result"
    },
    {
     "data": {
      "image/png": "[encoded data removed]",
      "text/plain": [
       "<Figure size 432x288 with 1 Axes>"
      ]
     },
     "metadata": {},
     "output_type": "display_data"
    }
   ],
   "source": [
    "pivot.plot(kind='pie', y='dissatisfaction', title='Avg number of dissatisfied employees in each career stage', legend=False, shadow=True, autopct='%1.1f%%')"
   ]
  },
  {
   "cell_type": "markdown",
   "metadata": {},
   "source": [
    "## Reporting our initial findings\n",
    "\n",
    "From visualizing our results, we've arrived at an interesting result where it seems that employees who've been with DETE and TAFE longer generally make up the largest portion of dissatisfied employees! These results seem to counteract pre-conceived notions and findings from Padilla that generally the longer an employee stays with a company, the happier they seem to be. This is shocking, especially those in the `Sage` category who represent the second most portion of dissatisfied employees, because according to Padella's findings, Sage employees should generally be the happiest and hold the senior-most positions. Not only that, these senior employees set the example for the company's culture, have the most stake in the company, and generally make the biggest decisions in terms of the company's future direction.  Perhaps these pre-conceived notions represent the exceptions rather than the norm since not every \"Sage\" employee can rise to the senior-leadership levels of the organization\n",
    "\n",
    "With this information, we can inform the strategy and resource allocation of these institute's HR departments by helping them better direct their effort in increasing employee engagement. Of course, our analysis only represents the most basic findings we can conclude from these datasets. In order to garner more insight, we can further take the following initatives:\n",
    "\n",
    "* Clean the `age` column. How many people in each age group resgined due to some kind of dissatisfaction?\n",
    "* Instead of analyzing the survey results together, analyze each survey separately. Did more employees in the DETE survey or TAFE survey end their employment because they were dissatisfied in some way?\n",
    "\n",
    "For now, thank you for taking the time to go through this project. Hopefully, I was able to successfully demonstrate my level of data science skills in data cleaning, analysis, and visualization."
   ]
  }
 ],
 "metadata": {
  "kernelspec": {
   "display_name": "Python 3",
   "language": "python",
   "name": "python3"
  },
  "language_info": {
   "codemirror_mode": {
    "name": "ipython",
    "version": 3
   },
   "file_extension": ".py",
   "mimetype": "text/x-python",
   "name": "python",
   "nbconvert_exporter": "python",
   "pygments_lexer": "ipython3",
   "version": "3.7.3"
  }
 },
 "nbformat": 4,
 "nbformat_minor": 2
}
